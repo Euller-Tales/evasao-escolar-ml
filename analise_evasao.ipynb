{
 "cells": [
  {
   "cell_type": "markdown",
   "id": "c03ba038",
   "metadata": {},
   "source": [
    "# 📊 Predição de Evasão Escolar com Machine Learning\n",
    "Este notebook realiza a análise e modelagem de dados para prever evasão escolar utilizando técnicas de aprendizado de máquina."
   ]
  },
  {
   "cell_type": "code",
   "execution_count": null,
   "id": "f7a9ade3",
   "metadata": {},
   "outputs": [],
   "source": [
    "\n",
    "# Importação de bibliotecas\n",
    "import pandas as pd\n",
    "import numpy as np\n",
    "import matplotlib.pyplot as plt\n",
    "from sklearn.model_selection import train_test_split, cross_val_score\n",
    "from sklearn.preprocessing import StandardScaler, OneHotEncoder\n",
    "from sklearn.compose import ColumnTransformer\n",
    "from sklearn.pipeline import Pipeline\n",
    "from sklearn.linear_model import LogisticRegression\n",
    "from sklearn.tree import DecisionTreeClassifier\n",
    "from sklearn.ensemble import RandomForestClassifier\n",
    "from sklearn.metrics import classification_report, confusion_matrix, ConfusionMatrixDisplay\n",
    "import joblib\n"
   ]
  },
  {
   "cell_type": "markdown",
   "id": "9f977e8a",
   "metadata": {},
   "source": [
    "## 📂 Coleta de Dados\n",
    "Para este projeto, utilizaremos um dataset sintético representando informações acadêmicas e socioeconômicas de alunos."
   ]
  },
  {
   "cell_type": "code",
   "execution_count": null,
   "id": "e358f1b1",
   "metadata": {},
   "outputs": [],
   "source": [
    "\n",
    "# Gerando dataset sintético\n",
    "np.random.seed(42)\n",
    "n = 5000\n",
    "df = pd.DataFrame({\n",
    "    \"idade\": np.random.randint(14, 20, n),\n",
    "    \"sexo\": np.random.choice([\"M\", \"F\"], n),\n",
    "    \"frequencia\": np.random.randint(50, 100, n),\n",
    "    \"nota_media\": np.random.uniform(0, 10, n).round(2),\n",
    "    \"trabalha\": np.random.choice([0, 1], n),\n",
    "    \"apoio_familiar\": np.random.choice([0, 1], n),\n",
    "    \"evasao\": np.random.choice([0, 1], n, p=[0.7, 0.3])\n",
    "})\n",
    "df.head()\n"
   ]
  },
  {
   "cell_type": "markdown",
   "id": "131466ee",
   "metadata": {},
   "source": [
    "## 🔎 Análise Exploratória de Dados (EDA)\n",
    "Visualizando a distribuição das variáveis e a proporção de evasão."
   ]
  },
  {
   "cell_type": "code",
   "execution_count": null,
   "id": "ac621e93",
   "metadata": {},
   "outputs": [],
   "source": [
    "\n",
    "df['evasao'].value_counts(normalize=True).plot(kind='bar')\n",
    "plt.title(\"Distribuição da variável alvo (evasão)\")\n",
    "plt.xlabel(\"Evasão (0=Não, 1=Sim)\")\n",
    "plt.ylabel(\"Proporção\")\n",
    "plt.show()\n"
   ]
  },
  {
   "cell_type": "markdown",
   "id": "e75ca7f0",
   "metadata": {},
   "source": [
    "## ⚙️ Pré-processamento e Divisão dos Dados"
   ]
  },
  {
   "cell_type": "code",
   "execution_count": null,
   "id": "bba4d07a",
   "metadata": {},
   "outputs": [],
   "source": [
    "\n",
    "X = df.drop(\"evasao\", axis=1)\n",
    "y = df[\"evasao\"]\n",
    "\n",
    "num_cols = [\"idade\", \"frequencia\", \"nota_media\"]\n",
    "cat_cols = [\"sexo\", \"trabalha\", \"apoio_familiar\"]\n",
    "\n",
    "numeric_transformer = Pipeline(steps=[(\"scaler\", StandardScaler())])\n",
    "categorical_transformer = OneHotEncoder(handle_unknown=\"ignore\")\n",
    "\n",
    "preprocess = ColumnTransformer(\n",
    "    transformers=[\n",
    "        (\"num\", numeric_transformer, num_cols),\n",
    "        (\"cat\", categorical_transformer, cat_cols)\n",
    "    ]\n",
    ")\n",
    "\n",
    "X_train, X_test, y_train, y_test = train_test_split(X, y, test_size=0.2, random_state=42, stratify=y)\n"
   ]
  },
  {
   "cell_type": "markdown",
   "id": "11327e21",
   "metadata": {},
   "source": [
    "## 🤖 Modelagem e Avaliação"
   ]
  },
  {
   "cell_type": "code",
   "execution_count": null,
   "id": "b73f2116",
   "metadata": {},
   "outputs": [],
   "source": [
    "\n",
    "modelos = {\n",
    "    \"LogisticRegression\": LogisticRegression(max_iter=1000),\n",
    "    \"DecisionTree\": DecisionTreeClassifier(),\n",
    "    \"RandomForest\": RandomForestClassifier()\n",
    "}\n",
    "\n",
    "resultados = {}\n",
    "\n",
    "for nome, modelo in modelos.items():\n",
    "    clf = Pipeline(steps=[(\"preprocess\", preprocess), (\"model\", modelo)])\n",
    "    clf.fit(X_train, y_train)\n",
    "    y_pred = clf.predict(X_test)\n",
    "    print(f\"\\nModelo: {nome}\")\n",
    "    print(classification_report(y_test, y_pred))\n",
    "    resultados[nome] = clf\n",
    "\n",
    "# Exibir matriz de confusão do melhor modelo (exemplo: RandomForest)\n",
    "best_model = resultados[\"LogisticRegression\"]\n",
    "ConfusionMatrixDisplay.from_estimator(best_model, X_test, y_test)\n",
    "plt.show()\n"
   ]
  },
  {
   "cell_type": "markdown",
   "id": "dcc08690",
   "metadata": {},
   "source": [
    "## 💾 Salvando o Modelo Treinado"
   ]
  },
  {
   "cell_type": "code",
   "execution_count": null,
   "id": "2106b5bb",
   "metadata": {},
   "outputs": [],
   "source": [
    "\n",
    "joblib.dump(best_model, \"modelo_evasao.joblib\")\n",
    "print(\"Modelo salvo como modelo_evasao.joblib\")\n"
   ]
  },
  {
   "cell_type": "markdown",
   "id": "ead83bad",
   "metadata": {},
   "source": [
    "## ✅ Conclusões\n",
    "- O dataset sintético permitiu treinar modelos de ML.\n",
    "- A **Regressão Logística** apresentou bom equilíbrio entre precisão e recall.\n",
    "- O modelo treinado foi salvo e pode ser utilizado em predições futuras."
   ]
  }
 ],
 "metadata": {},
 "nbformat": 4,
 "nbformat_minor": 5
}
